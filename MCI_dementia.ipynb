{
  "cells": [
    {
      "cell_type": "code",
      "execution_count": 24,
      "metadata": {
        "id": "hIiXkHDukXcN"
      },
      "outputs": [],
      "source": [
        "import numpy as np\n",
        "from matplotlib import pyplot as plt \n",
        "from numpy import genfromtxt\n",
        "from sklearn.model_selection import train_test_split\n",
        "from sklearn.svm import SVC"
      ]
    },
    {
      "cell_type": "code",
      "execution_count": 25,
      "metadata": {
        "colab": {
          "base_uri": "https://localhost:8080/",
          "height": 310
        },
        "id": "LWWmzodvmpu0",
        "outputId": "b2b90267-fa08-4d9a-eff2-a187afa0bd86"
      },
      "outputs": [],
      "source": [
        "Data1 = genfromtxt('MCI_Data.csv', delimiter=',')"
      ]
    },
    {
      "cell_type": "code",
      "execution_count": 26,
      "metadata": {
        "colab": {
          "base_uri": "https://localhost:8080/",
          "height": 310
        },
        "id": "lpqGJ8XsqU1L",
        "outputId": "8c284524-fa53-4756-9600-9d7adbc67cc8"
      },
      "outputs": [],
      "source": [
        "Labels = genfromtxt('MCI_Labels.csv', delimiter=',')"
      ]
    },
    {
      "cell_type": "code",
      "execution_count": 27,
      "metadata": {
        "colab": {
          "base_uri": "https://localhost:8080/"
        },
        "id": "RYoIIpnXnbYj",
        "outputId": "2256a30a-c7da-413e-aac2-2be3c1801096"
      },
      "outputs": [
        {
          "data": {
            "text/plain": [
              "(210, 131)"
            ]
          },
          "execution_count": 27,
          "metadata": {},
          "output_type": "execute_result"
        }
      ],
      "source": [
        "Data1.shape"
      ]
    },
    {
      "cell_type": "code",
      "execution_count": 28,
      "metadata": {
        "colab": {
          "base_uri": "https://localhost:8080/"
        },
        "id": "A4aQsKkqnlaZ",
        "outputId": "97c79b9e-5a2b-4c95-a217-e8be029d81f2"
      },
      "outputs": [
        {
          "name": "stdout",
          "output_type": "stream",
          "text": [
            "(210, 126)\n"
          ]
        }
      ],
      "source": [
        "std1=np.std(Data1, axis=0)\n",
        "index1=(std1!=0)\n",
        "Data2=Data1[:,index1]\n",
        "print(Data2.shape)"
      ]
    },
    {
      "cell_type": "code",
      "execution_count": 29,
      "metadata": {
        "colab": {
          "base_uri": "https://localhost:8080/"
        },
        "id": "X3CjbCGWpKsx",
        "outputId": "7e5b769e-1e8f-46fc-cf8e-e316c88c6074"
      },
      "outputs": [
        {
          "name": "stdout",
          "output_type": "stream",
          "text": [
            "(126,) (126,)\n",
            "(210, 126)\n"
          ]
        }
      ],
      "source": [
        "min1=np.min(Data2, axis=0)\n",
        "max1=np.max(Data2, axis=0)\n",
        "print(min1.shape, max1.shape)\n",
        "Data3=(Data2-min1)/(max1-min1)\n",
        "print(Data3.shape)"
      ]
    },
    {
      "cell_type": "code",
      "execution_count": 30,
      "metadata": {
        "id": "TrDoFNHJqNpO"
      },
      "outputs": [],
      "source": [
        "X=Data3\n",
        "y=Labels"
      ]
    },
    {
      "cell_type": "code",
      "execution_count": 32,
      "metadata": {
        "id": "ZBycbeIPE1aO"
      },
      "outputs": [],
      "source": [
        "def FDR(X, y):\n",
        "  #y=np.reshape(y, (y.shape[0],1))\n",
        "  index0=(y==0)\n",
        "  index1=(y==1)\n",
        "  X1=X[index0,:]\n",
        "  X2=X[index1, :]\n",
        "  #print(X1.shape, X2.shape)\n",
        "  m1=np.mean(X1, axis=0)\n",
        "  m2=np.mean(X2, axis=0)\n",
        "  s1=np.std(X1, axis=0)\n",
        "  s2=np.std(X2, axis=0)\n",
        "  fdr=((m1-m2)**2)/(s1**2 + s2**2)\n",
        "  #print(fdr.shape)\n",
        "  fdr1=-1*fdr\n",
        "  index3=np.argsort(fdr1)\n",
        "  return index3  "
      ]
    },
    {
      "cell_type": "code",
      "execution_count": 33,
      "metadata": {
        "id": "_bRQPrdeHJcD"
      },
      "outputs": [],
      "source": [
        "fdr_order=FDR(X,y)\n",
        "X=X[:, fdr_order]"
      ]
    },
    {
      "cell_type": "code",
      "execution_count": 34,
      "metadata": {
        "id": "4mLb2HddqlMX"
      },
      "outputs": [],
      "source": [
        "X_train, X_test, y_train, y_test = train_test_split(X, y, test_size=0.33)"
      ]
    },
    {
      "cell_type": "code",
      "execution_count": 35,
      "metadata": {
        "colab": {
          "base_uri": "https://localhost:8080/"
        },
        "id": "IA1l-bXlq7Fu",
        "outputId": "1505b889-3832-4d89-c727-fceb6e622f79"
      },
      "outputs": [
        {
          "name": "stdout",
          "output_type": "stream",
          "text": [
            "(140, 126) (70, 126) (140,) (70,)\n"
          ]
        }
      ],
      "source": [
        "print(X_train.shape, X_test.shape, y_train.shape, y_test.shape)"
      ]
    },
    {
      "cell_type": "code",
      "execution_count": 36,
      "metadata": {
        "id": "6Pty2KIqrjyi"
      },
      "outputs": [],
      "source": [
        "clf = SVC(gamma='auto')\n",
        "acc=[]\n",
        "for i in range(1, X.shape[1]):\n",
        "  X1=X[:,:i]\n",
        "  X_train, X_test, y_train, y_test = train_test_split(X1, y, test_size=0.33)\n",
        "  clf.fit(X_train, y_train)\n",
        "  y_pred=clf.predict(X_test)\n",
        "  a=np.sum(y_pred==y_test)/y_test.shape\n",
        "  acc.append(a)"
      ]
    },
    {
      "cell_type": "code",
      "execution_count": 37,
      "metadata": {
        "colab": {
          "base_uri": "https://localhost:8080/",
          "height": 282
        },
        "id": "1On8s-mYKF-o",
        "outputId": "0d30b099-5e3a-4a3f-d882-a21ed9db263a"
      },
      "outputs": [
        {
          "data": {
            "text/plain": [
              "[<matplotlib.lines.Line2D at 0x26fd31fb460>]"
            ]
          },
          "execution_count": 37,
          "metadata": {},
          "output_type": "execute_result"
        },
        {
          "data": {
            "image/png": "[encoded data removed]",
            "text/plain": [
              "<Figure size 432x288 with 1 Axes>"
            ]
          },
          "metadata": {
            "needs_background": "light"
          },
          "output_type": "display_data"
        }
      ],
      "source": [
        "plt.plot(acc, '.')"
      ]
    },
    {
      "cell_type": "code",
      "execution_count": 38,
      "metadata": {
        "colab": {
          "base_uri": "https://localhost:8080/"
        },
        "id": "eGUBikffKRHm",
        "outputId": "291b0f19-5e3b-41a4-eec8-c7f5c958d3ce"
      },
      "outputs": [
        {
          "data": {
            "text/plain": [
              "[array([0.64285714]),\n",
              " array([0.64285714]),\n",
              " array([0.62857143]),\n",
              " array([0.67142857]),\n",
              " array([0.71428571]),\n",
              " array([0.81428571]),\n",
              " array([0.7]),\n",
              " array([0.62857143]),\n",
              " array([0.62857143]),\n",
              " array([0.67142857]),\n",
              " array([0.75714286]),\n",
              " array([0.55714286]),\n",
              " array([0.68571429]),\n",
              " array([0.7]),\n",
              " array([0.6]),\n",
              " array([0.65714286]),\n",
              " array([0.65714286]),\n",
              " array([0.68571429]),\n",
              " array([0.68571429]),\n",
              " array([0.62857143]),\n",
              " array([0.6]),\n",
              " array([0.74285714]),\n",
              " array([0.52857143]),\n",
              " array([0.81428571]),\n",
              " array([0.67142857]),\n",
              " array([0.67142857]),\n",
              " array([0.75714286]),\n",
              " array([0.65714286]),\n",
              " array([0.75714286]),\n",
              " array([0.71428571]),\n",
              " array([0.72857143]),\n",
              " array([0.68571429]),\n",
              " array([0.54285714]),\n",
              " array([0.72857143]),\n",
              " array([0.68571429]),\n",
              " array([0.58571429]),\n",
              " array([0.65714286]),\n",
              " array([0.64285714]),\n",
              " array([0.6]),\n",
              " array([0.68571429]),\n",
              " array([0.65714286]),\n",
              " array([0.65714286]),\n",
              " array([0.62857143]),\n",
              " array([0.68571429]),\n",
              " array([0.65714286]),\n",
              " array([0.71428571]),\n",
              " array([0.74285714]),\n",
              " array([0.6]),\n",
              " array([0.68571429]),\n",
              " array([0.74285714]),\n",
              " array([0.61428571]),\n",
              " array([0.74285714]),\n",
              " array([0.7]),\n",
              " array([0.64285714]),\n",
              " array([0.57142857]),\n",
              " array([0.6]),\n",
              " array([0.65714286]),\n",
              " array([0.72857143]),\n",
              " array([0.71428571]),\n",
              " array([0.61428571]),\n",
              " array([0.7]),\n",
              " array([0.6]),\n",
              " array([0.72857143]),\n",
              " array([0.61428571]),\n",
              " array([0.64285714]),\n",
              " array([0.77142857]),\n",
              " array([0.67142857]),\n",
              " array([0.72857143]),\n",
              " array([0.7]),\n",
              " array([0.68571429]),\n",
              " array([0.61428571]),\n",
              " array([0.68571429]),\n",
              " array([0.75714286]),\n",
              " array([0.67142857]),\n",
              " array([0.67142857]),\n",
              " array([0.6]),\n",
              " array([0.57142857]),\n",
              " array([0.51428571]),\n",
              " array([0.65714286]),\n",
              " array([0.64285714]),\n",
              " array([0.55714286]),\n",
              " array([0.61428571]),\n",
              " array([0.57142857]),\n",
              " array([0.65714286]),\n",
              " array([0.58571429]),\n",
              " array([0.54285714]),\n",
              " array([0.68571429]),\n",
              " array([0.68571429]),\n",
              " array([0.74285714]),\n",
              " array([0.67142857]),\n",
              " array([0.67142857]),\n",
              " array([0.61428571]),\n",
              " array([0.6]),\n",
              " array([0.64285714]),\n",
              " array([0.58571429]),\n",
              " array([0.61428571]),\n",
              " array([0.65714286]),\n",
              " array([0.55714286]),\n",
              " array([0.71428571]),\n",
              " array([0.6]),\n",
              " array([0.65714286]),\n",
              " array([0.64285714]),\n",
              " array([0.71428571]),\n",
              " array([0.68571429]),\n",
              " array([0.62857143]),\n",
              " array([0.65714286]),\n",
              " array([0.61428571]),\n",
              " array([0.54285714]),\n",
              " array([0.61428571]),\n",
              " array([0.6]),\n",
              " array([0.64285714]),\n",
              " array([0.64285714]),\n",
              " array([0.7]),\n",
              " array([0.65714286]),\n",
              " array([0.7]),\n",
              " array([0.55714286]),\n",
              " array([0.65714286]),\n",
              " array([0.65714286]),\n",
              " array([0.61428571]),\n",
              " array([0.67142857]),\n",
              " array([0.65714286]),\n",
              " array([0.6]),\n",
              " array([0.64285714]),\n",
              " array([0.64285714]),\n",
              " array([0.64285714])]"
            ]
          },
          "execution_count": 38,
          "metadata": {},
          "output_type": "execute_result"
        }
      ],
      "source": [
        "acc"
      ]
    },
    {
      "cell_type": "code",
      "execution_count": 39,
      "metadata": {
        "colab": {
          "base_uri": "https://localhost:8080/"
        },
        "id": "VnToUpiAKVxa",
        "outputId": "51568214-f3ef-4ed8-f26f-72f07f134d01"
      },
      "outputs": [
        {
          "name": "stdout",
          "output_type": "stream",
          "text": [
            "0.8142857142857143 5\n"
          ]
        }
      ],
      "source": [
        "max_acc=np.max(acc)\n",
        "final_index=np.argmax(acc)\n",
        "print(max_acc, final_index)"
      ]
    },
    {
      "cell_type": "code",
      "execution_count": 40,
      "metadata": {
        "id": "S-6pGc0Lqqwp"
      },
      "outputs": [],
      "source": [
        "clf = SVC(kernel=\"linear\")\n",
        "acc=[]\n",
        "for i in range(1, X.shape[1]):\n",
        "  X1=X[:,:i]\n",
        "  X_train, X_test, y_train, y_test = train_test_split(X1, y, test_size=0.33)\n",
        "  clf.fit(X_train, y_train)\n",
        "  y_pred=clf.predict(X_test)\n",
        "  a=np.sum(y_pred==y_test)/y_test.shape\n",
        "  acc.append(a)"
      ]
    },
    {
      "cell_type": "code",
      "execution_count": 41,
      "metadata": {
        "colab": {
          "base_uri": "https://localhost:8080/",
          "height": 282
        },
        "id": "o7a4t9UAq-5b",
        "outputId": "537294d6-11ac-4f02-a40d-e16934c0b502"
      },
      "outputs": [
        {
          "data": {
            "text/plain": [
              "[<matplotlib.lines.Line2D at 0x26fd3281d60>]"
            ]
          },
          "execution_count": 41,
          "metadata": {},
          "output_type": "execute_result"
        },
        {
          "data": {
            "image/png": "[encoded data removed]",
            "text/plain": [
              "<Figure size 432x288 with 1 Axes>"
            ]
          },
          "metadata": {
            "needs_background": "light"
          },
          "output_type": "display_data"
        }
      ],
      "source": [
        "plt.plot(acc, '.')"
      ]
    },
    {
      "cell_type": "code",
      "execution_count": 42,
      "metadata": {
        "colab": {
          "base_uri": "https://localhost:8080/"
        },
        "id": "R8qhFGkSrHKN",
        "outputId": "10fa90de-afc0-474b-cb04-fccd91e8e7e7"
      },
      "outputs": [
        {
          "name": "stdout",
          "output_type": "stream",
          "text": [
            "0.8 28\n"
          ]
        }
      ],
      "source": [
        "max_acc=np.max(acc)\n",
        "final_index=np.argmax(acc)\n",
        "print(max_acc, final_index)"
      ]
    },
    {
      "cell_type": "code",
      "execution_count": 43,
      "metadata": {
        "colab": {
          "base_uri": "https://localhost:8080/"
        },
        "id": "gCIyEfdorL7e",
        "outputId": "8b08046b-dbb0-4575-a289-54d9ea8621be"
      },
      "outputs": [
        {
          "name": "stdout",
          "output_type": "stream",
          "text": [
            "0.8428571428571429 30\n",
            "0.7857142857142857 5\n",
            "0.8142857142857143 29\n",
            "0.8571428571428571 5\n",
            "0.8142857142857143 9\n",
            "0.7714285714285715 3\n",
            "0.8285714285714286 5\n",
            "0.8142857142857143 1\n",
            "0.8 21\n",
            "0.8 1\n",
            "0.8 99\n",
            "0.8142857142857143 32\n",
            "0.8142857142857143 84\n",
            "0.7857142857142857 4\n",
            "0.8 1\n",
            "0.8 7\n",
            "0.8 85\n",
            "0.8 48\n",
            "0.8142857142857143 18\n",
            "0.8285714285714286 37\n",
            "0.8 89\n",
            "0.8 9\n",
            "0.8142857142857143 52\n",
            "0.7857142857142857 22\n",
            "0.8285714285714286 98\n",
            "0.8428571428571429 46\n",
            "0.8 27\n",
            "0.8 13\n",
            "0.8142857142857143 7\n",
            "0.7857142857142857 5\n",
            "0.8 5\n",
            "0.7857142857142857 11\n",
            "0.8142857142857143 6\n",
            "0.8285714285714286 1\n",
            "0.8428571428571429 7\n",
            "0.7857142857142857 93\n",
            "0.8 51\n",
            "0.8 36\n",
            "0.7857142857142857 9\n",
            "0.8142857142857143 69\n",
            "0.8285714285714286 41\n",
            "0.8142857142857143 17\n",
            "0.7857142857142857 11\n",
            "0.8285714285714286 40\n",
            "0.8285714285714286 40\n",
            "0.8 14\n",
            "0.8285714285714286 42\n",
            "0.8 30\n",
            "0.7857142857142857 7\n",
            "0.7857142857142857 27\n",
            "0.8428571428571429 32\n",
            "0.7857142857142857 9\n",
            "0.7714285714285715 4\n",
            "0.8142857142857143 30\n",
            "0.8142857142857143 17\n",
            "0.7714285714285715 9\n",
            "0.8 30\n",
            "0.8571428571428571 32\n",
            "0.7857142857142857 2\n",
            "0.8714285714285714 12\n",
            "0.8142857142857143 62\n",
            "0.8285714285714286 11\n",
            "0.8285714285714286 23\n",
            "0.8142857142857143 1\n",
            "0.8 9\n",
            "0.8142857142857143 17\n",
            "0.8142857142857143 42\n",
            "0.8 41\n",
            "0.7857142857142857 43\n",
            "0.8 107\n",
            "0.8142857142857143 104\n",
            "0.8428571428571429 51\n",
            "0.7857142857142857 39\n",
            "0.8571428571428571 12\n",
            "0.7857142857142857 15\n",
            "0.8142857142857143 2\n",
            "0.8285714285714286 15\n",
            "0.8285714285714286 6\n",
            "0.9 46\n",
            "0.8142857142857143 20\n",
            "0.8285714285714286 12\n",
            "0.8428571428571429 1\n",
            "0.7857142857142857 24\n",
            "0.8 22\n",
            "0.7857142857142857 1\n",
            "0.8428571428571429 14\n",
            "0.8 12\n",
            "0.7857142857142857 44\n",
            "0.8142857142857143 88\n",
            "0.8142857142857143 32\n",
            "0.7857142857142857 3\n",
            "0.7857142857142857 7\n",
            "0.8 85\n",
            "0.8142857142857143 14\n",
            "0.8285714285714286 47\n",
            "0.8 15\n",
            "0.8571428571428571 40\n",
            "0.8285714285714286 96\n",
            "0.8285714285714286 7\n",
            "0.7857142857142857 24\n"
          ]
        }
      ],
      "source": [
        "c = np.linspace(0.1, 100, 100)\n",
        "final_acc=[]\n",
        "for cost in c:\n",
        "  clf = SVC(kernel=\"linear\", C=cost)\n",
        "  acc=[]\n",
        "  for i in range(1, X.shape[1]):\n",
        "    X1=X[:,:i]\n",
        "    X_train, X_test, y_train, y_test = train_test_split(X1, y, test_size=0.33)\n",
        "    clf.fit(X_train, y_train)\n",
        "    y_pred=clf.predict(X_test)\n",
        "    a=np.sum(y_pred==y_test)/y_test.shape\n",
        "    acc.append(a)\n",
        "  max_acc=np.max(acc)\n",
        "  final_index=np.argmax(acc)\n",
        "  print(max_acc, final_index)\n",
        "  final_acc.append(max_acc)\n",
        "  "
      ]
    },
    {
      "cell_type": "code",
      "execution_count": 44,
      "metadata": {
        "colab": {
          "base_uri": "https://localhost:8080/"
        },
        "id": "r9AOb_RqsJ_r",
        "outputId": "6fb4acec-6a16-46f7-aad7-d059dee8ffcb"
      },
      "outputs": [
        {
          "data": {
            "text/plain": [
              "0.9"
            ]
          },
          "execution_count": 44,
          "metadata": {},
          "output_type": "execute_result"
        }
      ],
      "source": [
        "np.max(final_acc)"
      ]
    },
    {
      "cell_type": "code",
      "execution_count": 45,
      "metadata": {
        "id": "-mGrWyxLrtbf"
      },
      "outputs": [],
      "source": [
        "y_pred=clf.predict(X_test)\n"
      ]
    },
    {
      "cell_type": "code",
      "execution_count": 46,
      "metadata": {
        "colab": {
          "base_uri": "https://localhost:8080/"
        },
        "id": "Q3pOe3dVr-CX",
        "outputId": "42a172d6-7e40-4a37-a800-e7738fa6a48e"
      },
      "outputs": [
        {
          "data": {
            "text/plain": [
              "array([0.6])"
            ]
          },
          "execution_count": 46,
          "metadata": {},
          "output_type": "execute_result"
        }
      ],
      "source": [
        "np.sum(y_pred==y_test)/y_test.shape"
      ]
    }
  ],
  "metadata": {
    "colab": {
      "collapsed_sections": [],
      "name": "Copy of Untitled56.ipynb",
      "provenance": []
    },
    "kernelspec": {
      "display_name": "Python 3",
      "name": "python3"
    },
    "language_info": {
      "codemirror_mode": {
        "name": "ipython",
        "version": 3
      },
      "file_extension": ".py",
      "mimetype": "text/x-python",
      "name": "python",
      "nbconvert_exporter": "python",
      "pygments_lexer": "ipython3",
      "version": "3.8.8"
    }
  },
  "nbformat": 4,
  "nbformat_minor": 0
}
